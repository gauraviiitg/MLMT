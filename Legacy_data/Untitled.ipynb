{
 "cells": [
  {
   "cell_type": "code",
   "execution_count": null,
   "id": "05e6b5ca",
   "metadata": {},
   "outputs": [],
   "source": [
    "import pandas as pd\n",
    "import os\n",
    "import matplotlib.pyplot as plt\n",
    "\n",
    "# List all the CSV files in the directory\n",
    "csv_files = [\n",
    "    'Data_0.csv',\n",
    "    'Data_+10.csv',\n",
    "    'Data_+20.csv',\n",
    "    'Data_+30.csv',\n",
    "    'Data_+40.csv',\n",
    "    'Data_+45.csv',\n",
    "    'Data_-10.csv',\n",
    "    'Data_-20.csv',\n",
    "    'Data_-30.csv',\n",
    "    'Data_-40.csv',\n",
    "    'Data_-45.csv'\n",
    "]\n",
    "\n",
    "for file_path in csv_files:\n",
    "    # Load the CSV file into a pandas DataFrame\n",
    "    data_frame = pd.read_csv(file_path)\n",
    "    \n",
    "\n",
    "    \n",
    "    # Save the DataFrame back to the same file\n",
    "    data_frame.to_csv(file_path, index=False)\n",
    "    \n",
    "    # Create a histogram of the 'td' column\n",
    "    plt.figure()\n",
    "    plt.hist(data_frame['corrected'], bins=200, edgecolor='black')\n",
    "    plt.title(f'Histogram of td in {file_path}')\n",
    "    plt.xlabel('td')\n",
    "    plt.ylabel('Frequency')\n",
    "    plt.grid(True)\n",
    "    plt.savefig(f'histogram_{os.path.splitext(file_path)[0]}.png')\n",
    "    plt.show()\n",
    "\n",
    "    print(f\"Updated '{file_path}' with the new 'td' column and created a histogram.\")\n",
    "\n",
    "print(\"All files have been updated and histograms have been created.\")\n"
   ]
  },
  {
   "cell_type": "code",
   "execution_count": null,
   "id": "a76aa0b4",
   "metadata": {},
   "outputs": [],
   "source": []
  }
 ],
 "metadata": {
  "kernelspec": {
   "display_name": "Python 3 (ipykernel)",
   "language": "python",
   "name": "python3"
  },
  "language_info": {
   "codemirror_mode": {
    "name": "ipython",
    "version": 3
   },
   "file_extension": ".py",
   "mimetype": "text/x-python",
   "name": "python",
   "nbconvert_exporter": "python",
   "pygments_lexer": "ipython3",
   "version": "3.11.1"
  }
 },
 "nbformat": 4,
 "nbformat_minor": 5
}
