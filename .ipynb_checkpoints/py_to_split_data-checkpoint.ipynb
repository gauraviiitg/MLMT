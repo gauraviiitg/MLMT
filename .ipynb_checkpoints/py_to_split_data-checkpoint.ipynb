{
 "cells": [
  {
   "cell_type": "code",
   "execution_count": 3,
   "id": "1512a31c",
   "metadata": {},
   "outputs": [],
   "source": [
    "import pandas as pd\n",
    "from sklearn.model_selection import train_test_split\n",
    "df = pd.read_csv('merged_corrected.csv')\n",
    "distance_counts = df['dist'].value_counts()\n",
    "test_sample_count = (distance_counts * 0.1).astype(int)\n",
    "test_indices = []\n",
    "for distance, count in test_sample_count.items():\n",
    "    indices = df[df['dist'] == distance].sample(count).index\n",
    "    test_indices.extend(indices)\n",
    "\n",
    "train_indices = df.index.difference(test_indices)\n",
    "\n",
    "train_df = df.loc[train_indices]\n",
    "test_df = df.loc[test_indices]\n",
    "train_df.to_csv('training_data.csv', index=False)\n",
    "test_df.to_csv('testing_data.csv', index=False)\n"
   ]
  },
  {
   "cell_type": "code",
   "execution_count": null,
   "id": "11bfff0e",
   "metadata": {},
   "outputs": [],
   "source": []
  }
 ],
 "metadata": {
  "kernelspec": {
   "display_name": "Python 3 (ipykernel)",
   "language": "python",
   "name": "python3"
  },
  "language_info": {
   "codemirror_mode": {
    "name": "ipython",
    "version": 3
   },
   "file_extension": ".py",
   "mimetype": "text/x-python",
   "name": "python",
   "nbconvert_exporter": "python",
   "pygments_lexer": "ipython3",
   "version": "3.11.1"
  }
 },
 "nbformat": 4,
 "nbformat_minor": 5
}
